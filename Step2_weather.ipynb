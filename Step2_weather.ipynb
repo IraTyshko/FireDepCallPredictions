{
 "cells": [
  {
   "cell_type": "markdown",
   "metadata": {},
   "source": [
    "# Step 2.2) Feature engineering: weather\n",
    "\n",
    "We'd like to establish the connections between the features and make decision about what data we need for predition. We will <br>\n",
    "* See the correlation of #calls_t and weather_t <br>\n",
    "* Autocorrelation of the weather "
   ]
  },
  {
   "cell_type": "code",
   "execution_count": 120,
   "metadata": {},
   "outputs": [],
   "source": [
    "from statsmodels.graphics.tsaplots import plot_acf, plot_pacf\n",
    "import pyexasol\n",
    "import pandas as pd\n",
    "import seaborn as sns\n",
    "import matplotlib.pyplot as plt\n",
    "from statsmodels.tsa.stattools import adfuller\n",
    "from statsmodels.graphics.tsaplots import plot_acf\n",
    "import statsmodels as sm"
   ]
  },
  {
   "cell_type": "markdown",
   "metadata": {},
   "source": [
    "### Collect the data"
   ]
  },
  {
   "cell_type": "markdown",
   "metadata": {},
   "source": [
    "If you'd like you can take a look at what query was used."
   ]
  },
  {
   "cell_type": "code",
   "execution_count": null,
   "metadata": {},
   "outputs": [
    {
     "name": "stdout",
     "output_type": "stream",
     "text": [
      "Would you like to see the query? y/n\n"
     ]
    }
   ],
   "source": [
    "def print_query(file_name):\n",
    "    print('Would you like to see the query? y/n')\n",
    "    ans = input()\n",
    "    if ans=='y':\n",
    "        with open('files/queries/'+file_name, 'r') as file:\n",
    "            query_time_series_hour = file.read()\n",
    "        print('-'*50)\n",
    "        print(query_time_series_hour)\n",
    "        print('-'*50)\n",
    "print_query('query_weather_to_calls_data.txt')"
   ]
  },
  {
   "cell_type": "markdown",
   "metadata": {},
   "source": [
    "The result of query"
   ]
  },
  {
   "cell_type": "code",
   "execution_count": null,
   "metadata": {},
   "outputs": [],
   "source": [
    "ds_raw = pd.read_csv('files/weather_to_numb_calls.csv',sep=';',decimal=',')\n",
    "ds_raw = ds_raw.drop_duplicates(subset=['DT_ISO']) #make sure no duplicates are present\n",
    "ds_raw = ds_raw.reset_index(drop=True)"
   ]
  },
  {
   "cell_type": "markdown",
   "metadata": {},
   "source": [
    "## Explore the data"
   ]
  },
  {
   "cell_type": "code",
   "execution_count": null,
   "metadata": {},
   "outputs": [],
   "source": [
    "ds_raw.info()"
   ]
  },
  {
   "cell_type": "code",
   "execution_count": null,
   "metadata": {},
   "outputs": [],
   "source": [
    "ds_raw['DT_ISO'] = pd.to_datetime(ds_raw.DT_ISO)"
   ]
  },
  {
   "cell_type": "code",
   "execution_count": null,
   "metadata": {},
   "outputs": [],
   "source": [
    "def correlation(df):\n",
    "    corr = df.corr()\n",
    "    sns.heatmap(corr, xticklabels=corr.columns, yticklabels=corr.columns, cmap='RdBu')# plot the correlation heatmap\n",
    "    return corr"
   ]
  },
  {
   "cell_type": "code",
   "execution_count": null,
   "metadata": {},
   "outputs": [],
   "source": [
    "correlation(ds_raw)"
   ]
  },
  {
   "cell_type": "markdown",
   "metadata": {},
   "source": [
    "We can see that TEMP is highly correlated with **FEELS_LIKE, TEMP_MIN and TEMP_MAX**, thus we will **exclude** them from consideration, they don't bring any new information to the model. <br> Humidity if quite highly correlated with the temperature, but we will not exclude it for now."
   ]
  },
  {
   "cell_type": "code",
   "execution_count": null,
   "metadata": {},
   "outputs": [],
   "source": [
    "# as discussed before we exclude it, as it's highly correlated\n",
    "columns_to_drop = ['FEELS_LIKE','TEMP_MIN','TEMP_MAX']\n",
    "ds_raw = ds_raw.drop(columns_to_drop,axis = 1) "
   ]
  },
  {
   "cell_type": "markdown",
   "metadata": {},
   "source": [
    "Though we know that the number of calls depends on the weather, the correlation matrix doesn't show it. That is because the correlation value shows only linear dependence and this is not always the case. That is why let us look at the scatter plot."
   ]
  },
  {
   "cell_type": "code",
   "execution_count": null,
   "metadata": {},
   "outputs": [],
   "source": [
    "pd.plotting.scatter_matrix(ds_raw, alpha = 1, figsize = (30, 30))\n",
    "plt.show()"
   ]
  },
  {
   "cell_type": "markdown",
   "metadata": {},
   "source": [
    "By looking at the scatterplot, it is hard to see the dependency of the number of calls on the weather. <br>\n",
    "We could also look at the the relationship between number of calls and weather description. "
   ]
  },
  {
   "cell_type": "code",
   "execution_count": null,
   "metadata": {},
   "outputs": [],
   "source": [
    "weather_types = ds_raw['WEATHER_DESCRIPTION'].unique()\n",
    "for w_type in weather_types:\n",
    "    calls_w_type= ds_raw[ds_raw['WEATHER_DESCRIPTION']==w_type]\n",
    "    numb_calls=calls_w_type['NUMB_CALLS'].sum()\n",
    "    print(w_type+' '*(30-len(w_type)), numb_calls)"
   ]
  },
  {
   "cell_type": "markdown",
   "metadata": {},
   "source": [
    "As expected, that when the sky is clear, we get many more calls while when there is rain we get significantly smaller number of calls. We couldn't see the clear dependence of the calls on each weather attribute on the graphs, as this dependence could be more complex. <br>"
   ]
  },
  {
   "cell_type": "markdown",
   "metadata": {},
   "source": [
    "Let us also plot the changes in each weather parameter and how it influences the number of calls for one year:"
   ]
  },
  {
   "cell_type": "code",
   "execution_count": null,
   "metadata": {},
   "outputs": [],
   "source": [
    "def plot_time_series(df,one_col='', omit=[],normalize=False,span=0,calls=False):\n",
    "    if span>0:\n",
    "        df = df.set_index(\"DT_ISO\", inplace=False) # inplace=F: make a copy, don't modify directly\n",
    "        df = df.rolling(span).mean()\n",
    "        x_axis = df.index\n",
    "    else:\n",
    "        x_axis = df['DT_ISO'][:]\n",
    "    omit.extend(['DT_ISO'])\n",
    "    columns_time_series=[one_col]\n",
    "    if len(one_col)==0:\n",
    "        columns_time_series = [col for col in df.columns if col not in omit ]\n",
    "    if calls:\n",
    "        columns_time_series.extend(['NUMB_CALLS'])\n",
    "    plt.figure(\"figure\",figsize=(40,15))\n",
    "    for col in columns_time_series:\n",
    "        if normalize:\n",
    "            y_axis = (10*df[col]/df[col].max())[:]\n",
    "            # normalize the output, so all the attributes are between 0 and 10 \n",
    "        else:\n",
    "            y_axis = df[col][:]\n",
    "        plt.plot(x_axis,y_axis)\n",
    "    plt.legend(columns_time_series)\n",
    "    plt.grid(True)\n",
    "    plt.show()\n",
    "    return"
   ]
  },
  {
   "cell_type": "code",
   "execution_count": null,
   "metadata": {
    "scrolled": true
   },
   "outputs": [],
   "source": [
    "year_2017=ds_raw[(ds_raw['DT_ISO']>='2017-01-01')&(ds_raw['DT_ISO']<'2018-01-01')]\n",
    "columns=['TEMP', 'PRESSURE', 'HUMIDITY', 'WIND_SPEED', 'WIND_DEG',\\\n",
    "       'RAIN_1H', 'RAIN_3H', 'SNOW_1H', 'SNOW_3H', 'CLOUDS_ALL']\n",
    "for col in columns:\n",
    "    print(col)\n",
    "    plot_time_series(year_2017,one_col=col,normalize=False,span=0,calls=True)"
   ]
  },
  {
   "cell_type": "markdown",
   "metadata": {},
   "source": [
    "Let us plot the moving average over a span of one week to make the graphs smoother and also normalize it for better visual perception:"
   ]
  },
  {
   "cell_type": "code",
   "execution_count": null,
   "metadata": {
    "scrolled": false
   },
   "outputs": [],
   "source": [
    "for col in columns:\n",
    "    print(col)\n",
    "    plot_time_series(year_2017,one_col=col,normalize=True,span=24*7,calls=True)"
   ]
  },
  {
   "cell_type": "markdown",
   "metadata": {},
   "source": [
    "### Some observations from time series plots:\n",
    "The **pressure** doesn't vary throughout the year and could be **omitted**. Humidity mirrors #calls: we often see, when **humidity** rises, #calls declines. There is a tendency, that #calls rise during the summer as the **temperature** rises and **rain with clouds** decline. It looks like the **WIND_DEG** and #calls also have similar fluctuations and trend. It makes sense, as on a windy day the fire spreads easier. The **snow** is very rare, therefore the plot is not reflecting any connection of it to #calls."
   ]
  },
  {
   "cell_type": "markdown",
   "metadata": {},
   "source": [
    "Let's add the dummy variables to the dataset and look at the correlation matrix again"
   ]
  },
  {
   "cell_type": "code",
   "execution_count": null,
   "metadata": {},
   "outputs": [],
   "source": [
    "def add_dummies(df,attribute):\n",
    "    # to have categorical values, we need to have the datatype string\n",
    "    #making sure the datatype is string\n",
    "    conv_to_str = lambda x: str(x)\n",
    "    df[attribute]=df[attribute].apply(conv_to_str)\n",
    "    dummies = pd.get_dummies(df[[attribute]], drop_first=True) #  #dummy var. = #categorical values - 1\n",
    "    df = df.drop(attribute,axis=1)\n",
    "    df = pd.concat([df, dummies], axis=1)\n",
    "    return df"
   ]
  },
  {
   "cell_type": "code",
   "execution_count": null,
   "metadata": {},
   "outputs": [],
   "source": [
    "ds_raw = ds_raw.rename(columns={\"WEATHER_DESCRIPTION\": \"wd\"}) # shorten the name beforehand\n",
    "categorical_attr=['wd','H','D','M','S']\n",
    "for attr in categorical_attr:\n",
    "    ds_raw=add_dummies(ds_raw,attr)\n",
    "ds_raw.info()"
   ]
  },
  {
   "cell_type": "code",
   "execution_count": null,
   "metadata": {},
   "outputs": [],
   "source": [
    "ds_raw.columns "
   ]
  },
  {
   "cell_type": "code",
   "execution_count": null,
   "metadata": {},
   "outputs": [],
   "source": [
    "# some column names have extra spaces in their name\n",
    "for col in ds_raw.columns:\n",
    "    ds_raw = ds_raw.rename(columns={col: col.strip()})"
   ]
  },
  {
   "cell_type": "code",
   "execution_count": null,
   "metadata": {},
   "outputs": [],
   "source": [
    "corr = correlation(ds_raw)"
   ]
  },
  {
   "cell_type": "code",
   "execution_count": null,
   "metadata": {},
   "outputs": [],
   "source": [
    "(abs(corr['NUMB_CALLS']).sort_values(ascending=False))[:50]"
   ]
  },
  {
   "cell_type": "code",
   "execution_count": null,
   "metadata": {},
   "outputs": [],
   "source": [
    "def autocorrelation_attr(df,n_lags=50):\n",
    "    plt.rcParams['figure.max_open_warning'] = 0\n",
    "    weather_time_series = [col for col in df.columns if col not in ('NUMB_CALLS','DT_ISO') ]\n",
    "    #plt.subplots(figsize=(10,5))\n",
    "    for col in weather_time_series:\n",
    "        plot_acf(df[col],lags=n_lags)\n",
    "        plt.title(col)\n",
    "    plt.show()"
   ]
  },
  {
   "cell_type": "code",
   "execution_count": null,
   "metadata": {},
   "outputs": [],
   "source": [
    "autocorrelation_attr(ds_raw,n_lags = 60)"
   ]
  },
  {
   "cell_type": "markdown",
   "metadata": {},
   "source": [
    "We can obtain even more insight about which weather parameters influence the most #calls after using the Gradient Boosting."
   ]
  }
 ],
 "metadata": {
  "kernelspec": {
   "display_name": "Python 3",
   "language": "python",
   "name": "python3"
  },
  "language_info": {
   "codemirror_mode": {
    "name": "ipython",
    "version": 3
   },
   "file_extension": ".py",
   "mimetype": "text/x-python",
   "name": "python",
   "nbconvert_exporter": "python",
   "pygments_lexer": "ipython3",
   "version": "3.8.3"
  }
 },
 "nbformat": 4,
 "nbformat_minor": 4
}
