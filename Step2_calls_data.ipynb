{
 "cells": [
  {
   "cell_type": "markdown",
   "metadata": {},
   "source": [
    "# Step 2.1) Feature engineering: calls\n",
    "\n",
    "Even though number of calls is not a time series on it's own, it could reflext certain factors, that are a time series, not only the weather, but also other human factors. Previously we named these features $\\tilde X$."
   ]
  },
  {
   "cell_type": "code",
   "execution_count": null,
   "metadata": {},
   "outputs": [],
   "source": [
    "import matplotlib.pyplot as plt\n",
    "import pandas as pd"
   ]
  },
  {
   "cell_type": "code",
   "execution_count": null,
   "metadata": {},
   "outputs": [],
   "source": [
    "time_series_hourly = pd.read_csv('files/ts_analysis_data.csv',sep=';',decimal=',')\n",
    "time_series_hourly = time_series_hourly.drop_duplicates(subset=['DT_ISO']) #make sure no duplicates are present\n",
    "time_series_hourly = time_series_hourly.reset_index(drop=True)\n",
    "calls_time_series_hourly=time_series_hourly[[\"DT_ISO\",\"NUMB_CALLS\"]]"
   ]
  },
  {
   "cell_type": "code",
   "execution_count": null,
   "metadata": {},
   "outputs": [],
   "source": [
    "calls_time_series_hourly.set_index(\"DT_ISO\", inplace=True)\n",
    "calls_time_series_hourly.head()"
   ]
  },
  {
   "cell_type": "markdown",
   "metadata": {},
   "source": [
    "### Calls distribution"
   ]
  },
  {
   "cell_type": "code",
   "execution_count": null,
   "metadata": {},
   "outputs": [],
   "source": [
    "plt.hist(calls_time_series_hourly.NUMB_CALLS, density=True, bins=50)\n",
    "plt.show()"
   ]
  },
  {
   "cell_type": "markdown",
   "metadata": {},
   "source": [
    "Looks like the number of calls per hour is normally distributed."
   ]
  },
  {
   "cell_type": "code",
   "execution_count": null,
   "metadata": {},
   "outputs": [],
   "source": [
    "def plot_one_graph(datafr):\n",
    "    fig, ax = plt.subplots(figsize=(30, 10))\n",
    "    ax.plot_date(x=datafr.index, y=datafr.NUMB_CALLS, fmt=\"r-\")\n",
    "    plt.setp(ax.get_xticklabels(), rotation=45,)\n",
    "    plt.ylabel(\"number of calls\")\n",
    "    plt.grid(True)\n",
    "    plt.show()\n",
    "    return"
   ]
  },
  {
   "cell_type": "markdown",
   "metadata": {},
   "source": [
    "### Hourly paterns"
   ]
  },
  {
   "cell_type": "code",
   "execution_count": null,
   "metadata": {},
   "outputs": [],
   "source": [
    "calls_time_series_one_day= calls_time_series_hourly[:'2020-10-01']"
   ]
  },
  {
   "cell_type": "code",
   "execution_count": null,
   "metadata": {},
   "outputs": [],
   "source": [
    "# plot hourly calls during one month\n",
    "calls_time_series_last_month = calls_time_series_hourly[calls_time_series_hourly.index>'2020-10-01']\n",
    "plot_one_graph(calls_time_series_last_month)"
   ]
  },
  {
   "cell_type": "code",
   "execution_count": null,
   "metadata": {},
   "outputs": [],
   "source": [
    "plot_one_graph(calls_time_series_last_month.rolling(24).mean()) # moving average over 24 hours, one day"
   ]
  },
  {
   "cell_type": "markdown",
   "metadata": {},
   "source": [
    "Looking at the graphs, it is hard to understand any patterns yet. <br>\n",
    "In order to understand how number of calls are connected with the past data, i.e. autocorrelated we plot the ACF (autocorrelation function)."
   ]
  },
  {
   "cell_type": "code",
   "execution_count": null,
   "metadata": {},
   "outputs": [],
   "source": [
    "from statsmodels.graphics.tsaplots import plot_acf"
   ]
  },
  {
   "cell_type": "code",
   "execution_count": null,
   "metadata": {
    "scrolled": true
   },
   "outputs": [],
   "source": [
    "with plt.rc_context():\n",
    "    plt.figure(\"figure\",figsize=(20,20))\n",
    "    plot_acf(calls_time_series_hourly['NUMB_CALLS'],lags=49)\n",
    "    plt.show()"
   ]
  },
  {
   "cell_type": "markdown",
   "metadata": {},
   "source": [
    "On the X axis we have lags, and Y axis the $R^2$. E.g. for lag = 1, we have correlation ~0.5, which means that the number of calls now are somewhat connected (0.5) with the number of calls one hour ago. "
   ]
  },
  {
   "cell_type": "markdown",
   "metadata": {},
   "source": [
    "We conclude, in order to predict the number of calls at one time is correlated with the number of calls **1 hour ago and also 1 day (24 hours) ago**. This could be also explained by the fact that calls depend on weather and weather now depends very much on the weather one hour ago. "
   ]
  },
  {
   "cell_type": "markdown",
   "metadata": {},
   "source": [
    "###  Daily patterns."
   ]
  },
  {
   "cell_type": "code",
   "execution_count": null,
   "metadata": {},
   "outputs": [],
   "source": [
    "# in the previous query we also aggregated the call data per day for years 11.2015-11.2019  \n",
    "calls_time_series_daily = pd.read_csv('files/calls_per_day.csv',sep=';',decimal=',')\n",
    "calls_time_series_daily.set_index(\"DATE_DAY\", inplace=True)\n",
    "plot_one_graph(calls_time_series_daily)"
   ]
  },
  {
   "cell_type": "code",
   "execution_count": null,
   "metadata": {},
   "outputs": [],
   "source": [
    "plot_one_graph(calls_time_series_daily)"
   ]
  },
  {
   "cell_type": "markdown",
   "metadata": {},
   "source": [
    "We see that there is **no clear trend** in the data. The data is slightly **cyclic**. <br>"
   ]
  },
  {
   "cell_type": "code",
   "execution_count": null,
   "metadata": {},
   "outputs": [],
   "source": [
    "with plt.rc_context():\n",
    "    plt.figure(\"figure\",figsize=(20,20))\n",
    "    plot_acf(calls_time_series_daily['NUMB_CALLS'],lags=30)"
   ]
  },
  {
   "cell_type": "markdown",
   "metadata": {},
   "source": [
    "We see that the calls are connected to the number of calls on previous days. <br>\n",
    "We can see that every 7th lag we get a slightly **higher correlation**, which is related to the **weekdays**. Though it is correlated not very strongly, we will also consider adding this information. <br>\n",
    "Thus we will consider  **the hour and the weekday** as new features for better prediction."
   ]
  },
  {
   "cell_type": "code",
   "execution_count": null,
   "metadata": {
    "scrolled": false
   },
   "outputs": [],
   "source": [
    "with plt.rc_context():\n",
    "    plt.figure(\"figure\",figsize=(20,20))\n",
    "    plot_acf(calls_time_series_daily['NUMB_CALLS'],lags=360)"
   ]
  },
  {
   "cell_type": "markdown",
   "metadata": {},
   "source": [
    "By looking at the lags extending to the whole year, we see that there is no correlation of current day with days, from more than 2 months ago. (at 60 we see that the ACF is within the blue area). Let us see closer the first 60 lags:"
   ]
  },
  {
   "cell_type": "code",
   "execution_count": null,
   "metadata": {},
   "outputs": [],
   "source": [
    "with plt.rc_context():\n",
    "    plt.figure(\"figure\",figsize=(20,20))\n",
    "    plot_acf(calls_time_series_daily['NUMB_CALLS'],lags=60)"
   ]
  },
  {
   "cell_type": "markdown",
   "metadata": {},
   "source": [
    "By looking at the graph,we see increases after 4 weeks. This way we can consider also  **the month** to be one of new attributes too."
   ]
  },
  {
   "cell_type": "markdown",
   "metadata": {},
   "source": [
    "It could be easier to see more patterns if we smooth the graph out by ploting the rolling average (moving average): "
   ]
  },
  {
   "cell_type": "code",
   "execution_count": null,
   "metadata": {},
   "outputs": [],
   "source": [
    "calls_time_series_daily_roll_avg = calls_time_series_daily.rolling(7).mean() #7-day moving agerage\n",
    "plot_one_graph(calls_time_series_daily_roll_avg)"
   ]
  },
  {
   "cell_type": "code",
   "execution_count": null,
   "metadata": {},
   "outputs": [],
   "source": [
    "# let's see the time series during 2 years\n",
    "year_2016=calls_time_series_daily[(calls_time_series_daily.index<'2017-01-01')&(calls_time_series_daily.index>='2016-01-01')]\n",
    "year_2017=calls_time_series_daily[(calls_time_series_daily.index>='2017-01-01')&(calls_time_series_daily.index<'2018-01-01')]\n",
    "year_2018=calls_time_series_daily[(calls_time_series_daily.index>='2018-01-01')&(calls_time_series_daily.index<'2019-01-01')]\n",
    "# let's check if they contain all the days of the year\n",
    "print(len(year_2016) == 366) # February in 2016 has 29 days\n",
    "print(len(year_2017)==365)\n",
    "print(len(year_2017)==365) "
   ]
  },
  {
   "cell_type": "code",
   "execution_count": null,
   "metadata": {},
   "outputs": [],
   "source": [
    "plt.figure(figsize=(50, 30))\n",
    "\n",
    "ax1 = plt.subplot(3, 1, 1)\n",
    "plt.setp(ax1.get_xticklabels(), rotation=45)\n",
    "plt.grid(True)\n",
    "ax1.set_ylabel('NUMB_CALLS')\n",
    "ax1.plot(year_2016.index, year_2016.NUMB_CALLS, color='b', linewidth=1)\n",
    "\n",
    "ax2 = plt.subplot(3, 1, 2)\n",
    "plt.setp(ax2.get_xticklabels(), rotation=45)\n",
    "plt.grid(True)\n",
    "ax2.set_ylabel('NUMB_CALLS')\n",
    "ax2.plot(year_2017.index, year_2017.NUMB_CALLS, color='b', linewidth=1)\n",
    "\n",
    "ax3 = plt.subplot(3, 1, 3)\n",
    "plt.setp(ax3.get_xticklabels(), rotation=45)\n",
    "plt.grid(True)\n",
    "ax3.set_ylabel('NUMB_CALLS')\n",
    "ax3.plot(year_2018.index, year_2018.NUMB_CALLS, color='b', linewidth=1)"
   ]
  },
  {
   "cell_type": "markdown",
   "metadata": {},
   "source": [
    "From these graphs, we can see that during all the years the number of calls increases in the middle of the year. It is logical, as in summer the heat could cause fire easier. Even though the information about the season is already captured in the weather changes, the rise of fire calls in the summer could be also explained with people's behaviour during summer time. People go out more, make bonfires, etc. This way we will include the **season as an attribute**. In the following graphs it's more visible: "
   ]
  },
  {
   "cell_type": "code",
   "execution_count": null,
   "metadata": {},
   "outputs": [],
   "source": [
    "plot_one_graph(year_2016.rolling(15).mean())"
   ]
  },
  {
   "cell_type": "code",
   "execution_count": null,
   "metadata": {},
   "outputs": [],
   "source": [
    "plot_one_graph(year_2017.rolling(15).mean())"
   ]
  },
  {
   "cell_type": "code",
   "execution_count": null,
   "metadata": {},
   "outputs": [],
   "source": [
    "plot_one_graph(year_2018.rolling(15).mean())"
   ]
  },
  {
   "cell_type": "markdown",
   "metadata": {},
   "source": [
    "After our little investigation, we will add the following features to our dataset:\n",
    "* hour of the day \n",
    "* day of the week  \n",
    "* month of the year \n",
    "* season\n",
    "* (other attributes, e.g. whether a day is a holiday, .. etc could be considered too, but for simplicity we will stop here )<br>\n",
    "\n"
   ]
  }
 ],
 "metadata": {
  "kernelspec": {
   "display_name": "Python 3",
   "language": "python",
   "name": "python3"
  },
  "language_info": {
   "codemirror_mode": {
    "name": "ipython",
    "version": 3
   },
   "file_extension": ".py",
   "mimetype": "text/x-python",
   "name": "python",
   "nbconvert_exporter": "python",
   "pygments_lexer": "ipython3",
   "version": "3.8.3"
  }
 },
 "nbformat": 4,
 "nbformat_minor": 4
}
